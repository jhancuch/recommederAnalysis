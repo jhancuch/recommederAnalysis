{
  "nbformat": 4,
  "nbformat_minor": 0,
  "metadata": {
    "colab": {
      "name": "svd_v_svdpp.ipynb",
      "provenance": [],
      "collapsed_sections": [],
      "authorship_tag": "ABX9TyNmZ8brRyJ5gN77Lhu5gJCn",
      "include_colab_link": true
    },
    "kernelspec": {
      "name": "python3",
      "display_name": "Python 3"
    },
    "language_info": {
      "name": "python"
    }
  },
  "cells": [
    {
      "cell_type": "markdown",
      "metadata": {
        "id": "view-in-github",
        "colab_type": "text"
      },
      "source": [
        "<a href=\"https://colab.research.google.com/github/jhancuch/recommederAnalysis/blob/main/svd_v_svdpp.ipynb\" target=\"_parent\"><img src=\"https://colab.research.google.com/assets/colab-badge.svg\" alt=\"Open In Colab\"/></a>"
      ]
    },
    {
      "cell_type": "markdown",
      "source": [
        "I analyze both the SVD and SVD++ alogrithms from the Surpise package to demonstrate their usefullness for our final project OnMart product recommendations. I use the practice transactions csv file and conduct a comparative analysis using run-time, cross-validation, and exhaustive search."
      ],
      "metadata": {
        "id": "ziIrw0yKyaz2"
      }
    },
    {
      "cell_type": "markdown",
      "source": [
        "### Data Ingestion"
      ],
      "metadata": {
        "id": "s_jJBzMzy1-V"
      }
    },
    {
      "cell_type": "code",
      "source": [
        "!pip3 install surprise"
      ],
      "metadata": {
        "colab": {
          "base_uri": "https://localhost:8080/"
        },
        "id": "4TyzQCwezkWI",
        "outputId": "ecf02dec-da62-4778-90c0-dc63a82b7119"
      },
      "execution_count": null,
      "outputs": [
        {
          "output_type": "stream",
          "name": "stdout",
          "text": [
            "Looking in indexes: https://pypi.org/simple, https://us-python.pkg.dev/colab-wheels/public/simple/\n",
            "Collecting surprise\n",
            "  Downloading surprise-0.1-py2.py3-none-any.whl (1.8 kB)\n",
            "Collecting scikit-surprise\n",
            "  Downloading scikit-surprise-1.1.1.tar.gz (11.8 MB)\n",
            "\u001b[K     |████████████████████████████████| 11.8 MB 27.4 MB/s \n",
            "\u001b[?25hRequirement already satisfied: joblib>=0.11 in /usr/local/lib/python3.7/dist-packages (from scikit-surprise->surprise) (1.1.0)\n",
            "Requirement already satisfied: numpy>=1.11.2 in /usr/local/lib/python3.7/dist-packages (from scikit-surprise->surprise) (1.21.6)\n",
            "Requirement already satisfied: scipy>=1.0.0 in /usr/local/lib/python3.7/dist-packages (from scikit-surprise->surprise) (1.4.1)\n",
            "Requirement already satisfied: six>=1.10.0 in /usr/local/lib/python3.7/dist-packages (from scikit-surprise->surprise) (1.15.0)\n",
            "Building wheels for collected packages: scikit-surprise\n",
            "  Building wheel for scikit-surprise (setup.py) ... \u001b[?25l\u001b[?25hdone\n",
            "  Created wheel for scikit-surprise: filename=scikit_surprise-1.1.1-cp37-cp37m-linux_x86_64.whl size=1633732 sha256=3a313b3ba9e7aa6f915022046d09742b5fc1555fb46f90ead544f5f3e34a8876\n",
            "  Stored in directory: /root/.cache/pip/wheels/76/44/74/b498c42be47b2406bd27994e16c5188e337c657025ab400c1c\n",
            "Successfully built scikit-surprise\n",
            "Installing collected packages: scikit-surprise, surprise\n",
            "Successfully installed scikit-surprise-1.1.1 surprise-0.1\n"
          ]
        }
      ]
    },
    {
      "cell_type": "code",
      "execution_count": null,
      "metadata": {
        "id": "DneBjSnLyNlE"
      },
      "outputs": [],
      "source": [
        "import numpy as np\n",
        "import pandas as pd\n",
        "\n",
        "import os\n",
        "import csv\n",
        "from collections import defaultdict\n",
        "\n",
        "import surprise\n",
        "from surprise import BaselineOnly\n",
        "from surprise import Dataset\n",
        "from surprise import Reader\n",
        "from surprise import SVD\n",
        "from surprise import SVDpp\n",
        "from surprise.model_selection import GridSearchCV\n",
        "from surprise import accuracy\n",
        "from surprise.model_selection import cross_validate\n",
        "from surprise.model_selection import train_test_split"
      ]
    },
    {
      "cell_type": "code",
      "source": [
        "np.random.seed(1234)"
      ],
      "metadata": {
        "id": "IU6_DsaczGVH"
      },
      "execution_count": null,
      "outputs": []
    },
    {
      "cell_type": "code",
      "source": [
        "transactions = pd.read_csv(\"https://raw.githubusercontent.com/jhancuch/onmart/main/data/Transactions.csv\")\n",
        "transactions.head()"
      ],
      "metadata": {
        "colab": {
          "base_uri": "https://localhost:8080/",
          "height": 560
        },
        "id": "7tSCqiW1zHKI",
        "outputId": "cafff809-a2ee-41fc-b13e-c55dc4e6f9de"
      },
      "execution_count": null,
      "outputs": [
        {
          "output_type": "execute_result",
          "data": {
            "text/plain": [
              "    CustomerID FirstName  LastName     CreditCardNumber  \\\n",
              "0  566-26-0321    Rebeka    Stokes  xxxx-xxxx-xxxx-2650   \n",
              "1  274-18-0017   Rahsaan      Koch  xxxx-xxxx-xxxx-5055   \n",
              "2  455-28-7950      Zion   Osinski  xxxx-xxxx-xxxx-0150   \n",
              "3  254-72-5938      Ward    Brekke  xxxx-xxxx-xxxx-5280   \n",
              "4  563-47-8401  Terrence  Franecki  xxxx-xxxx-xxxx-1019   \n",
              "\n",
              "                                OrderID Customer_Occupation  \\\n",
              "0  50787284-d78d-4b6a-b93f-7419b0d46590              Lawyer   \n",
              "1  f61639d7-28de-4507-a63a-71e99921d8f9              Lawyer   \n",
              "2  7b1caf69-bd5b-441c-9115-6fa31ba1c313              Lawyer   \n",
              "3  cb58e8e9-572b-4d9e-af9f-dbecf9dfd3c5               Actor   \n",
              "4  a9d66460-a48f-419f-8d39-7818290a3041               Actor   \n",
              "\n",
              "   Credit_Card_Number  Order_ID  Order_Date Expected_Delivery_Date  ...  \\\n",
              "0         12345789032        98    4/7/2020              4/11/2020  ...   \n",
              "1         12345789032       131   5/10/2020              5/14/2020  ...   \n",
              "2         12345789032       318  11/13/2020             11/17/2020  ...   \n",
              "3         12345789032       528   2/12/2020              2/16/2020  ...   \n",
              "4         12345789032       561   2/12/2020              2/16/2020  ...   \n",
              "\n",
              "   Product_Name Category  Manufacturer Review_Rating Delivery_Tracking_ID  \\\n",
              "0  Fitbit small  fitness  Fitbit small             3                   98   \n",
              "1  Fitbit small  fitness  Fitbit small             3                  131   \n",
              "2  Fitbit small  fitness  Fitbit small             3                  318   \n",
              "3  Fitbit large  fitness  Fitbit large             5                  528   \n",
              "4  Fitbit large  fitness  Fitbit large             5                  561   \n",
              "\n",
              "   Delivery_Type  Delivery_Zip_Code Transaction_Status  Order_Returned  \\\n",
              "0         Pickup              10048           Disputed               1   \n",
              "1         Pickup              10048           Disputed               1   \n",
              "2         Pickup              10048           Disputed               1   \n",
              "3         Pickup              10048           Disputed               0   \n",
              "4         Pickup              10048           Disputed               0   \n",
              "\n",
              "  Order_Delivered_on_Time  \n",
              "0                       1  \n",
              "1                       1  \n",
              "2                       1  \n",
              "3                       1  \n",
              "4                       1  \n",
              "\n",
              "[5 rows x 22 columns]"
            ],
            "text/html": [
              "\n",
              "  <div id=\"df-478765da-df9c-4ae7-b93e-627c153f5b23\">\n",
              "    <div class=\"colab-df-container\">\n",
              "      <div>\n",
              "<style scoped>\n",
              "    .dataframe tbody tr th:only-of-type {\n",
              "        vertical-align: middle;\n",
              "    }\n",
              "\n",
              "    .dataframe tbody tr th {\n",
              "        vertical-align: top;\n",
              "    }\n",
              "\n",
              "    .dataframe thead th {\n",
              "        text-align: right;\n",
              "    }\n",
              "</style>\n",
              "<table border=\"1\" class=\"dataframe\">\n",
              "  <thead>\n",
              "    <tr style=\"text-align: right;\">\n",
              "      <th></th>\n",
              "      <th>CustomerID</th>\n",
              "      <th>FirstName</th>\n",
              "      <th>LastName</th>\n",
              "      <th>CreditCardNumber</th>\n",
              "      <th>OrderID</th>\n",
              "      <th>Customer_Occupation</th>\n",
              "      <th>Credit_Card_Number</th>\n",
              "      <th>Order_ID</th>\n",
              "      <th>Order_Date</th>\n",
              "      <th>Expected_Delivery_Date</th>\n",
              "      <th>...</th>\n",
              "      <th>Product_Name</th>\n",
              "      <th>Category</th>\n",
              "      <th>Manufacturer</th>\n",
              "      <th>Review_Rating</th>\n",
              "      <th>Delivery_Tracking_ID</th>\n",
              "      <th>Delivery_Type</th>\n",
              "      <th>Delivery_Zip_Code</th>\n",
              "      <th>Transaction_Status</th>\n",
              "      <th>Order_Returned</th>\n",
              "      <th>Order_Delivered_on_Time</th>\n",
              "    </tr>\n",
              "  </thead>\n",
              "  <tbody>\n",
              "    <tr>\n",
              "      <th>0</th>\n",
              "      <td>566-26-0321</td>\n",
              "      <td>Rebeka</td>\n",
              "      <td>Stokes</td>\n",
              "      <td>xxxx-xxxx-xxxx-2650</td>\n",
              "      <td>50787284-d78d-4b6a-b93f-7419b0d46590</td>\n",
              "      <td>Lawyer</td>\n",
              "      <td>12345789032</td>\n",
              "      <td>98</td>\n",
              "      <td>4/7/2020</td>\n",
              "      <td>4/11/2020</td>\n",
              "      <td>...</td>\n",
              "      <td>Fitbit small</td>\n",
              "      <td>fitness</td>\n",
              "      <td>Fitbit small</td>\n",
              "      <td>3</td>\n",
              "      <td>98</td>\n",
              "      <td>Pickup</td>\n",
              "      <td>10048</td>\n",
              "      <td>Disputed</td>\n",
              "      <td>1</td>\n",
              "      <td>1</td>\n",
              "    </tr>\n",
              "    <tr>\n",
              "      <th>1</th>\n",
              "      <td>274-18-0017</td>\n",
              "      <td>Rahsaan</td>\n",
              "      <td>Koch</td>\n",
              "      <td>xxxx-xxxx-xxxx-5055</td>\n",
              "      <td>f61639d7-28de-4507-a63a-71e99921d8f9</td>\n",
              "      <td>Lawyer</td>\n",
              "      <td>12345789032</td>\n",
              "      <td>131</td>\n",
              "      <td>5/10/2020</td>\n",
              "      <td>5/14/2020</td>\n",
              "      <td>...</td>\n",
              "      <td>Fitbit small</td>\n",
              "      <td>fitness</td>\n",
              "      <td>Fitbit small</td>\n",
              "      <td>3</td>\n",
              "      <td>131</td>\n",
              "      <td>Pickup</td>\n",
              "      <td>10048</td>\n",
              "      <td>Disputed</td>\n",
              "      <td>1</td>\n",
              "      <td>1</td>\n",
              "    </tr>\n",
              "    <tr>\n",
              "      <th>2</th>\n",
              "      <td>455-28-7950</td>\n",
              "      <td>Zion</td>\n",
              "      <td>Osinski</td>\n",
              "      <td>xxxx-xxxx-xxxx-0150</td>\n",
              "      <td>7b1caf69-bd5b-441c-9115-6fa31ba1c313</td>\n",
              "      <td>Lawyer</td>\n",
              "      <td>12345789032</td>\n",
              "      <td>318</td>\n",
              "      <td>11/13/2020</td>\n",
              "      <td>11/17/2020</td>\n",
              "      <td>...</td>\n",
              "      <td>Fitbit small</td>\n",
              "      <td>fitness</td>\n",
              "      <td>Fitbit small</td>\n",
              "      <td>3</td>\n",
              "      <td>318</td>\n",
              "      <td>Pickup</td>\n",
              "      <td>10048</td>\n",
              "      <td>Disputed</td>\n",
              "      <td>1</td>\n",
              "      <td>1</td>\n",
              "    </tr>\n",
              "    <tr>\n",
              "      <th>3</th>\n",
              "      <td>254-72-5938</td>\n",
              "      <td>Ward</td>\n",
              "      <td>Brekke</td>\n",
              "      <td>xxxx-xxxx-xxxx-5280</td>\n",
              "      <td>cb58e8e9-572b-4d9e-af9f-dbecf9dfd3c5</td>\n",
              "      <td>Actor</td>\n",
              "      <td>12345789032</td>\n",
              "      <td>528</td>\n",
              "      <td>2/12/2020</td>\n",
              "      <td>2/16/2020</td>\n",
              "      <td>...</td>\n",
              "      <td>Fitbit large</td>\n",
              "      <td>fitness</td>\n",
              "      <td>Fitbit large</td>\n",
              "      <td>5</td>\n",
              "      <td>528</td>\n",
              "      <td>Pickup</td>\n",
              "      <td>10048</td>\n",
              "      <td>Disputed</td>\n",
              "      <td>0</td>\n",
              "      <td>1</td>\n",
              "    </tr>\n",
              "    <tr>\n",
              "      <th>4</th>\n",
              "      <td>563-47-8401</td>\n",
              "      <td>Terrence</td>\n",
              "      <td>Franecki</td>\n",
              "      <td>xxxx-xxxx-xxxx-1019</td>\n",
              "      <td>a9d66460-a48f-419f-8d39-7818290a3041</td>\n",
              "      <td>Actor</td>\n",
              "      <td>12345789032</td>\n",
              "      <td>561</td>\n",
              "      <td>2/12/2020</td>\n",
              "      <td>2/16/2020</td>\n",
              "      <td>...</td>\n",
              "      <td>Fitbit large</td>\n",
              "      <td>fitness</td>\n",
              "      <td>Fitbit large</td>\n",
              "      <td>5</td>\n",
              "      <td>561</td>\n",
              "      <td>Pickup</td>\n",
              "      <td>10048</td>\n",
              "      <td>Disputed</td>\n",
              "      <td>0</td>\n",
              "      <td>1</td>\n",
              "    </tr>\n",
              "  </tbody>\n",
              "</table>\n",
              "<p>5 rows × 22 columns</p>\n",
              "</div>\n",
              "      <button class=\"colab-df-convert\" onclick=\"convertToInteractive('df-478765da-df9c-4ae7-b93e-627c153f5b23')\"\n",
              "              title=\"Convert this dataframe to an interactive table.\"\n",
              "              style=\"display:none;\">\n",
              "        \n",
              "  <svg xmlns=\"http://www.w3.org/2000/svg\" height=\"24px\"viewBox=\"0 0 24 24\"\n",
              "       width=\"24px\">\n",
              "    <path d=\"M0 0h24v24H0V0z\" fill=\"none\"/>\n",
              "    <path d=\"M18.56 5.44l.94 2.06.94-2.06 2.06-.94-2.06-.94-.94-2.06-.94 2.06-2.06.94zm-11 1L8.5 8.5l.94-2.06 2.06-.94-2.06-.94L8.5 2.5l-.94 2.06-2.06.94zm10 10l.94 2.06.94-2.06 2.06-.94-2.06-.94-.94-2.06-.94 2.06-2.06.94z\"/><path d=\"M17.41 7.96l-1.37-1.37c-.4-.4-.92-.59-1.43-.59-.52 0-1.04.2-1.43.59L10.3 9.45l-7.72 7.72c-.78.78-.78 2.05 0 2.83L4 21.41c.39.39.9.59 1.41.59.51 0 1.02-.2 1.41-.59l7.78-7.78 2.81-2.81c.8-.78.8-2.07 0-2.86zM5.41 20L4 18.59l7.72-7.72 1.47 1.35L5.41 20z\"/>\n",
              "  </svg>\n",
              "      </button>\n",
              "      \n",
              "  <style>\n",
              "    .colab-df-container {\n",
              "      display:flex;\n",
              "      flex-wrap:wrap;\n",
              "      gap: 12px;\n",
              "    }\n",
              "\n",
              "    .colab-df-convert {\n",
              "      background-color: #E8F0FE;\n",
              "      border: none;\n",
              "      border-radius: 50%;\n",
              "      cursor: pointer;\n",
              "      display: none;\n",
              "      fill: #1967D2;\n",
              "      height: 32px;\n",
              "      padding: 0 0 0 0;\n",
              "      width: 32px;\n",
              "    }\n",
              "\n",
              "    .colab-df-convert:hover {\n",
              "      background-color: #E2EBFA;\n",
              "      box-shadow: 0px 1px 2px rgba(60, 64, 67, 0.3), 0px 1px 3px 1px rgba(60, 64, 67, 0.15);\n",
              "      fill: #174EA6;\n",
              "    }\n",
              "\n",
              "    [theme=dark] .colab-df-convert {\n",
              "      background-color: #3B4455;\n",
              "      fill: #D2E3FC;\n",
              "    }\n",
              "\n",
              "    [theme=dark] .colab-df-convert:hover {\n",
              "      background-color: #434B5C;\n",
              "      box-shadow: 0px 1px 3px 1px rgba(0, 0, 0, 0.15);\n",
              "      filter: drop-shadow(0px 1px 2px rgba(0, 0, 0, 0.3));\n",
              "      fill: #FFFFFF;\n",
              "    }\n",
              "  </style>\n",
              "\n",
              "      <script>\n",
              "        const buttonEl =\n",
              "          document.querySelector('#df-478765da-df9c-4ae7-b93e-627c153f5b23 button.colab-df-convert');\n",
              "        buttonEl.style.display =\n",
              "          google.colab.kernel.accessAllowed ? 'block' : 'none';\n",
              "\n",
              "        async function convertToInteractive(key) {\n",
              "          const element = document.querySelector('#df-478765da-df9c-4ae7-b93e-627c153f5b23');\n",
              "          const dataTable =\n",
              "            await google.colab.kernel.invokeFunction('convertToInteractive',\n",
              "                                                     [key], {});\n",
              "          if (!dataTable) return;\n",
              "\n",
              "          const docLinkHtml = 'Like what you see? Visit the ' +\n",
              "            '<a target=\"_blank\" href=https://colab.research.google.com/notebooks/data_table.ipynb>data table notebook</a>'\n",
              "            + ' to learn more about interactive tables.';\n",
              "          element.innerHTML = '';\n",
              "          dataTable['output_type'] = 'display_data';\n",
              "          await google.colab.output.renderOutput(dataTable, element);\n",
              "          const docLink = document.createElement('div');\n",
              "          docLink.innerHTML = docLinkHtml;\n",
              "          element.appendChild(docLink);\n",
              "        }\n",
              "      </script>\n",
              "    </div>\n",
              "  </div>\n",
              "  "
            ]
          },
          "metadata": {},
          "execution_count": 7
        }
      ]
    },
    {
      "cell_type": "markdown",
      "source": [
        "## Data Preparation "
      ],
      "metadata": {
        "id": "uDlc-1gO1rq8"
      }
    },
    {
      "cell_type": "code",
      "source": [
        "data = pd.DataFrame()\n",
        "data['user'] = transactions['CustomerID'].astype(str)\n",
        "data['item'] = transactions['Product_Name'].astype(str)\n",
        "data['rating'] = transactions['Review_Rating'].astype(int)\n",
        "data = data.dropna()\n",
        "data.head()"
      ],
      "metadata": {
        "colab": {
          "base_uri": "https://localhost:8080/",
          "height": 206
        },
        "id": "zvKGrs8PzL7M",
        "outputId": "2154f1fa-f062-4627-c36e-27d309f9dee1"
      },
      "execution_count": null,
      "outputs": [
        {
          "output_type": "execute_result",
          "data": {
            "text/plain": [
              "          user          item  rating\n",
              "0  566-26-0321  Fitbit small       3\n",
              "1  274-18-0017  Fitbit small       3\n",
              "2  455-28-7950  Fitbit small       3\n",
              "3  254-72-5938  Fitbit large       5\n",
              "4  563-47-8401  Fitbit large       5"
            ],
            "text/html": [
              "\n",
              "  <div id=\"df-4838969d-72b5-40eb-a2b0-cbf5aa17547d\">\n",
              "    <div class=\"colab-df-container\">\n",
              "      <div>\n",
              "<style scoped>\n",
              "    .dataframe tbody tr th:only-of-type {\n",
              "        vertical-align: middle;\n",
              "    }\n",
              "\n",
              "    .dataframe tbody tr th {\n",
              "        vertical-align: top;\n",
              "    }\n",
              "\n",
              "    .dataframe thead th {\n",
              "        text-align: right;\n",
              "    }\n",
              "</style>\n",
              "<table border=\"1\" class=\"dataframe\">\n",
              "  <thead>\n",
              "    <tr style=\"text-align: right;\">\n",
              "      <th></th>\n",
              "      <th>user</th>\n",
              "      <th>item</th>\n",
              "      <th>rating</th>\n",
              "    </tr>\n",
              "  </thead>\n",
              "  <tbody>\n",
              "    <tr>\n",
              "      <th>0</th>\n",
              "      <td>566-26-0321</td>\n",
              "      <td>Fitbit small</td>\n",
              "      <td>3</td>\n",
              "    </tr>\n",
              "    <tr>\n",
              "      <th>1</th>\n",
              "      <td>274-18-0017</td>\n",
              "      <td>Fitbit small</td>\n",
              "      <td>3</td>\n",
              "    </tr>\n",
              "    <tr>\n",
              "      <th>2</th>\n",
              "      <td>455-28-7950</td>\n",
              "      <td>Fitbit small</td>\n",
              "      <td>3</td>\n",
              "    </tr>\n",
              "    <tr>\n",
              "      <th>3</th>\n",
              "      <td>254-72-5938</td>\n",
              "      <td>Fitbit large</td>\n",
              "      <td>5</td>\n",
              "    </tr>\n",
              "    <tr>\n",
              "      <th>4</th>\n",
              "      <td>563-47-8401</td>\n",
              "      <td>Fitbit large</td>\n",
              "      <td>5</td>\n",
              "    </tr>\n",
              "  </tbody>\n",
              "</table>\n",
              "</div>\n",
              "      <button class=\"colab-df-convert\" onclick=\"convertToInteractive('df-4838969d-72b5-40eb-a2b0-cbf5aa17547d')\"\n",
              "              title=\"Convert this dataframe to an interactive table.\"\n",
              "              style=\"display:none;\">\n",
              "        \n",
              "  <svg xmlns=\"http://www.w3.org/2000/svg\" height=\"24px\"viewBox=\"0 0 24 24\"\n",
              "       width=\"24px\">\n",
              "    <path d=\"M0 0h24v24H0V0z\" fill=\"none\"/>\n",
              "    <path d=\"M18.56 5.44l.94 2.06.94-2.06 2.06-.94-2.06-.94-.94-2.06-.94 2.06-2.06.94zm-11 1L8.5 8.5l.94-2.06 2.06-.94-2.06-.94L8.5 2.5l-.94 2.06-2.06.94zm10 10l.94 2.06.94-2.06 2.06-.94-2.06-.94-.94-2.06-.94 2.06-2.06.94z\"/><path d=\"M17.41 7.96l-1.37-1.37c-.4-.4-.92-.59-1.43-.59-.52 0-1.04.2-1.43.59L10.3 9.45l-7.72 7.72c-.78.78-.78 2.05 0 2.83L4 21.41c.39.39.9.59 1.41.59.51 0 1.02-.2 1.41-.59l7.78-7.78 2.81-2.81c.8-.78.8-2.07 0-2.86zM5.41 20L4 18.59l7.72-7.72 1.47 1.35L5.41 20z\"/>\n",
              "  </svg>\n",
              "      </button>\n",
              "      \n",
              "  <style>\n",
              "    .colab-df-container {\n",
              "      display:flex;\n",
              "      flex-wrap:wrap;\n",
              "      gap: 12px;\n",
              "    }\n",
              "\n",
              "    .colab-df-convert {\n",
              "      background-color: #E8F0FE;\n",
              "      border: none;\n",
              "      border-radius: 50%;\n",
              "      cursor: pointer;\n",
              "      display: none;\n",
              "      fill: #1967D2;\n",
              "      height: 32px;\n",
              "      padding: 0 0 0 0;\n",
              "      width: 32px;\n",
              "    }\n",
              "\n",
              "    .colab-df-convert:hover {\n",
              "      background-color: #E2EBFA;\n",
              "      box-shadow: 0px 1px 2px rgba(60, 64, 67, 0.3), 0px 1px 3px 1px rgba(60, 64, 67, 0.15);\n",
              "      fill: #174EA6;\n",
              "    }\n",
              "\n",
              "    [theme=dark] .colab-df-convert {\n",
              "      background-color: #3B4455;\n",
              "      fill: #D2E3FC;\n",
              "    }\n",
              "\n",
              "    [theme=dark] .colab-df-convert:hover {\n",
              "      background-color: #434B5C;\n",
              "      box-shadow: 0px 1px 3px 1px rgba(0, 0, 0, 0.15);\n",
              "      filter: drop-shadow(0px 1px 2px rgba(0, 0, 0, 0.3));\n",
              "      fill: #FFFFFF;\n",
              "    }\n",
              "  </style>\n",
              "\n",
              "      <script>\n",
              "        const buttonEl =\n",
              "          document.querySelector('#df-4838969d-72b5-40eb-a2b0-cbf5aa17547d button.colab-df-convert');\n",
              "        buttonEl.style.display =\n",
              "          google.colab.kernel.accessAllowed ? 'block' : 'none';\n",
              "\n",
              "        async function convertToInteractive(key) {\n",
              "          const element = document.querySelector('#df-4838969d-72b5-40eb-a2b0-cbf5aa17547d');\n",
              "          const dataTable =\n",
              "            await google.colab.kernel.invokeFunction('convertToInteractive',\n",
              "                                                     [key], {});\n",
              "          if (!dataTable) return;\n",
              "\n",
              "          const docLinkHtml = 'Like what you see? Visit the ' +\n",
              "            '<a target=\"_blank\" href=https://colab.research.google.com/notebooks/data_table.ipynb>data table notebook</a>'\n",
              "            + ' to learn more about interactive tables.';\n",
              "          element.innerHTML = '';\n",
              "          dataTable['output_type'] = 'display_data';\n",
              "          await google.colab.output.renderOutput(dataTable, element);\n",
              "          const docLink = document.createElement('div');\n",
              "          docLink.innerHTML = docLinkHtml;\n",
              "          element.appendChild(docLink);\n",
              "        }\n",
              "      </script>\n",
              "    </div>\n",
              "  </div>\n",
              "  "
            ]
          },
          "metadata": {},
          "execution_count": 94
        }
      ]
    },
    {
      "cell_type": "code",
      "source": [
        "data.to_csv('transaction_train.csv', index=False)\n",
        "\n",
        "with open(\"transaction_train.csv\", \"r\") as f:\n",
        "    reader = csv.DictReader(f, delimiter=',')\n",
        "    with open(\"transaction_test.csv\", \"w\",newline='') as f_out:\n",
        "        writer = csv.DictWriter(f_out, fieldnames=reader.fieldnames, delimiter=\",\")\n",
        "        for row in reader:\n",
        "            writer.writerow(row)"
      ],
      "metadata": {
        "id": "HkPZn1RN7yez"
      },
      "execution_count": null,
      "outputs": []
    },
    {
      "cell_type": "code",
      "source": [
        "def get_top_n(predictions, n=3):\n",
        "    '''Return the top-N recommendation for each user from a set of predictions.\n",
        "\n",
        "    Args:\n",
        "        predictions(list of Prediction objects): The list of predictions, as\n",
        "            returned by the test method of an algorithm.\n",
        "        n(int): The number of recommendation to output for each user. Default\n",
        "            is 10.\n",
        "\n",
        "    Returns:\n",
        "    A dict where keys are user (raw) ids and values are lists of tuples:\n",
        "        [(raw item id, rating estimation), ...] of size n.\n",
        "    '''\n",
        "\n",
        "    # First map the predictions to each user.\n",
        "    top_n = defaultdict(list)\n",
        "    for uid, iid, true_r, est, _ in predictions:\n",
        "        top_n[uid].append((iid, est))\n",
        "\n",
        "    # Then sort the predictions for each user and retrieve the k highest ones.\n",
        "    for uid, user_ratings in top_n.items():\n",
        "        user_ratings.sort(key=lambda x: x[1], reverse=True)\n",
        "        top_n[uid] = user_ratings[:n]\n",
        "\n",
        "    return top_n"
      ],
      "metadata": {
        "id": "zvh5IpDy_X9a"
      },
      "execution_count": null,
      "outputs": []
    },
    {
      "cell_type": "markdown",
      "source": [
        "## SVD Model"
      ],
      "metadata": {
        "id": "OFDh8V291lBQ"
      }
    },
    {
      "cell_type": "markdown",
      "source": [
        "### Data"
      ],
      "metadata": {
        "id": "FDb4RF5K_ku6"
      }
    },
    {
      "cell_type": "code",
      "source": [
        "svd_data = Dataset.load_from_file('transaction_test.csv', reader=Reader(line_format='user item rating', sep=','))\n",
        "svd_trainset = svd_data.build_full_trainset()"
      ],
      "metadata": {
        "id": "iC4wVliyBosF"
      },
      "execution_count": null,
      "outputs": []
    },
    {
      "cell_type": "markdown",
      "source": [
        "### Grid Search"
      ],
      "metadata": {
        "id": "BDGngaVO_oTH"
      }
    },
    {
      "cell_type": "code",
      "source": [
        "svd_param_grid = {'n_epochs': [5, 10, 20], 'lr_all': [0.002, 0.005, 0.007, 0.009], 'reg_all': [0.0, 0.2, 0.4, 0.6]}\n",
        "\n",
        "svd_gs = GridSearchCV(SVD, svd_param_grid, measures=['rmse', 'mae'], cv=5)"
      ],
      "metadata": {
        "id": "jeZf35WE_V-F"
      },
      "execution_count": null,
      "outputs": []
    },
    {
      "cell_type": "code",
      "source": [
        "%timeit\n",
        "svd_gs.fit(svd_data)"
      ],
      "metadata": {
        "id": "rUyljW2R_zTj"
      },
      "execution_count": null,
      "outputs": []
    },
    {
      "cell_type": "code",
      "source": [
        "# best RMSE score\n",
        "print(svd_gs.best_score['rmse'])\n",
        "\n",
        "# combination of parameters that gave the best RMSE score\n",
        "print(svd_gs.best_params['rmse'])"
      ],
      "metadata": {
        "colab": {
          "base_uri": "https://localhost:8080/"
        },
        "id": "8msXJhfw_1N0",
        "outputId": "c05c7ec2-b945-4c75-a742-9e97badb19ad"
      },
      "execution_count": null,
      "outputs": [
        {
          "output_type": "stream",
          "name": "stdout",
          "text": [
            "0.19453025599059537\n",
            "{'n_epochs': 10, 'lr_all': 0.007, 'reg_all': 0.0}\n"
          ]
        }
      ]
    },
    {
      "cell_type": "markdown",
      "source": [
        "### Create Model"
      ],
      "metadata": {
        "id": "Pavizgx8_3Pc"
      }
    },
    {
      "cell_type": "code",
      "source": [
        "svd_algorithm = SVD(n_epochs=10, lr_all=0.007, reg_all=0.0)"
      ],
      "metadata": {
        "id": "hzuUYzjk4DOU"
      },
      "execution_count": null,
      "outputs": []
    },
    {
      "cell_type": "code",
      "source": [
        "%time\n",
        "svd_algorithm.fit(svd_trainset)"
      ],
      "metadata": {
        "colab": {
          "base_uri": "https://localhost:8080/"
        },
        "id": "OJlWEUbZ8gdA",
        "outputId": "b477b01c-8a6d-4fa3-e20d-89d66b732484"
      },
      "execution_count": null,
      "outputs": [
        {
          "output_type": "stream",
          "name": "stdout",
          "text": [
            "CPU times: user 2 µs, sys: 0 ns, total: 2 µs\n",
            "Wall time: 5.25 µs\n"
          ]
        },
        {
          "output_type": "execute_result",
          "data": {
            "text/plain": [
              "<surprise.prediction_algorithms.matrix_factorization.SVD at 0x7fb9dc49e910>"
            ]
          },
          "metadata": {},
          "execution_count": 113
        }
      ]
    },
    {
      "cell_type": "code",
      "source": [
        "# Then predict ratings for all pairs (u, i) that are NOT in the training set.\n",
        "svd_testset = svd_trainset.build_anti_testset()"
      ],
      "metadata": {
        "id": "K6PnoBym8ghD"
      },
      "execution_count": null,
      "outputs": []
    },
    {
      "cell_type": "code",
      "source": [
        "%time\n",
        "svd_predictions = svd_algorithm.test(svd_testset)"
      ],
      "metadata": {
        "colab": {
          "base_uri": "https://localhost:8080/"
        },
        "id": "DQ8C0JXU8gmp",
        "outputId": "489dbc29-5b82-4a4e-f7ad-8733c1f74654"
      },
      "execution_count": null,
      "outputs": [
        {
          "output_type": "stream",
          "name": "stdout",
          "text": [
            "CPU times: user 4 µs, sys: 0 ns, total: 4 µs\n",
            "Wall time: 8.11 µs\n"
          ]
        }
      ]
    },
    {
      "cell_type": "code",
      "source": [
        "top_n = get_top_n(svd_predictions, n=3)"
      ],
      "metadata": {
        "id": "M_V6O_Ia1pj7"
      },
      "execution_count": null,
      "outputs": []
    },
    {
      "cell_type": "code",
      "source": [
        "# Print the recommended items for each user\n",
        "count = 0\n",
        "for uid, user_ratings in top_n.items():\n",
        "  print(uid, [iid for (iid, _) in user_ratings])\n",
        "  count += 1\n",
        "  if count == 9:\n",
        "    break"
      ],
      "metadata": {
        "colab": {
          "base_uri": "https://localhost:8080/"
        },
        "id": "KDaO7kCT-E1C",
        "outputId": "7246d64b-0045-4031-c078-b92a479ad8f0"
      },
      "execution_count": null,
      "outputs": [
        {
          "output_type": "stream",
          "name": "stdout",
          "text": [
            "566-26-0321 ['VR7', 'Redmi', 'Harman Kardon']\n",
            "274-18-0017 ['VR7', 'Redmi', 'Harman Kardon']\n",
            "455-28-7950 ['Fitbit large', 'Logitech', 'VR7']\n",
            "254-72-5938 ['Logitech', 'Sony', 'Redmi']\n",
            "563-47-8401 ['VR7', 'Sony', 'Redmi']\n",
            "848-43-9454 ['Fitbit large', 'VR7', 'Sony']\n",
            "056-77-2913 ['VR7', 'Redmi', 'Fitbit small']\n",
            "404-86-6657 ['VR7', 'Sony', 'Samsung s10']\n",
            "653-90-2575 ['Logitech', 'VR7', 'Sony']\n"
          ]
        }
      ]
    },
    {
      "cell_type": "markdown",
      "source": [
        "### Validation"
      ],
      "metadata": {
        "id": "r23jOVEJ-gKR"
      }
    },
    {
      "cell_type": "code",
      "source": [
        "cross_validate(svd_algorithm, svd_data, measures=['RMSE', 'MAE'], cv=5, verbose=True)"
      ],
      "metadata": {
        "colab": {
          "base_uri": "https://localhost:8080/"
        },
        "id": "nrrE9YjG-iBF",
        "outputId": "c5a6ac13-79a2-4aeb-e34c-739563db5b27"
      },
      "execution_count": null,
      "outputs": [
        {
          "output_type": "stream",
          "name": "stdout",
          "text": [
            "Evaluating RMSE, MAE of algorithm SVD on 5 split(s).\n",
            "\n",
            "                  Fold 1  Fold 2  Fold 3  Fold 4  Fold 5  Mean    Std     \n",
            "RMSE (testset)    0.1965  0.1957  0.1975  0.1929  0.1984  0.1962  0.0019  \n",
            "MAE (testset)     0.0950  0.0907  0.0959  0.0914  0.0943  0.0935  0.0020  \n",
            "Fit time          0.43    0.42    0.43    0.43    0.41    0.42    0.01    \n",
            "Test time         0.03    0.03    0.02    0.02    0.02    0.03    0.00    \n"
          ]
        },
        {
          "output_type": "execute_result",
          "data": {
            "text/plain": [
              "{'fit_time': (0.42838048934936523,\n",
              "  0.4199085235595703,\n",
              "  0.4312012195587158,\n",
              "  0.4263026714324951,\n",
              "  0.41325998306274414),\n",
              " 'test_mae': array([0.09503722, 0.09070615, 0.09586213, 0.0913729 , 0.09431822]),\n",
              " 'test_rmse': array([0.1965307 , 0.19569974, 0.19749821, 0.19288698, 0.19840951]),\n",
              " 'test_time': (0.026318788528442383,\n",
              "  0.02803182601928711,\n",
              "  0.024149179458618164,\n",
              "  0.024747848510742188,\n",
              "  0.024579763412475586)}"
            ]
          },
          "metadata": {},
          "execution_count": 118
        }
      ]
    },
    {
      "cell_type": "markdown",
      "source": [
        "## SVD++ Model"
      ],
      "metadata": {
        "id": "bqga_0e21m5E"
      }
    },
    {
      "cell_type": "markdown",
      "source": [
        "### Data"
      ],
      "metadata": {
        "id": "lKm9NOTCF96f"
      }
    },
    {
      "cell_type": "code",
      "source": [
        "svdpp_data = Dataset.load_from_file('transaction_test.csv', reader=Reader(line_format='user item rating', sep=','))\n",
        "svdpp_trainset = svdpp_data.build_full_trainset()"
      ],
      "metadata": {
        "id": "9FdV3Eu31o4b"
      },
      "execution_count": null,
      "outputs": []
    },
    {
      "cell_type": "markdown",
      "source": [
        "### Grid Search"
      ],
      "metadata": {
        "id": "PJxNpbtdGCX3"
      }
    },
    {
      "cell_type": "code",
      "source": [
        "svdpp_param_grid = {'n_epochs': [5, 10, 20], 'lr_all': [0.002, 0.005, 0.007, 0.009], 'reg_all': [0.0, 0.2, 0.4, 0.6]}\n",
        "\n",
        "svdpp_gs = GridSearchCV(SVDpp, svdpp_param_grid, measures=['rmse', 'mae'], cv=5)"
      ],
      "metadata": {
        "id": "VA7PVILWGCio"
      },
      "execution_count": null,
      "outputs": []
    },
    {
      "cell_type": "code",
      "source": [
        "%timeit\n",
        "svdpp_gs.fit(svdpp_data)"
      ],
      "metadata": {
        "id": "DPHvjJLLGCme"
      },
      "execution_count": null,
      "outputs": []
    },
    {
      "cell_type": "code",
      "source": [
        "# best RMSE score\n",
        "print(svdpp_gs.best_score['rmse'])\n",
        "\n",
        "# combination of parameters that gave the best RMSE score\n",
        "print(svdpp_gs.best_params['rmse'])"
      ],
      "metadata": {
        "colab": {
          "base_uri": "https://localhost:8080/"
        },
        "id": "IOA-zJv3GIUA",
        "outputId": "478c610a-8737-4316-9b3e-8ab4501a026b"
      },
      "execution_count": null,
      "outputs": [
        {
          "output_type": "stream",
          "name": "stdout",
          "text": [
            "0.19800136697519322\n",
            "{'n_epochs': 10, 'lr_all': 0.009, 'reg_all': 0.0}\n"
          ]
        }
      ]
    },
    {
      "cell_type": "markdown",
      "source": [
        "### Model"
      ],
      "metadata": {
        "id": "G485B6RyGMrK"
      }
    },
    {
      "cell_type": "code",
      "source": [
        "svdpp_algorithm = SVDpp(n_epochs=10, lr_all=0.009, reg_all=0.0)"
      ],
      "metadata": {
        "id": "x1cCqdr9GIWn"
      },
      "execution_count": null,
      "outputs": []
    },
    {
      "cell_type": "code",
      "source": [
        "%time\n",
        "svdpp_algorithm.fit(svdpp_trainset)"
      ],
      "metadata": {
        "colab": {
          "base_uri": "https://localhost:8080/"
        },
        "id": "IcMbWKJTGRj3",
        "outputId": "c8d702a8-88a2-42eb-bcef-414998391a04"
      },
      "execution_count": null,
      "outputs": [
        {
          "output_type": "stream",
          "name": "stdout",
          "text": [
            "CPU times: user 3 µs, sys: 0 ns, total: 3 µs\n",
            "Wall time: 5.25 µs\n"
          ]
        },
        {
          "output_type": "execute_result",
          "data": {
            "text/plain": [
              "<surprise.prediction_algorithms.matrix_factorization.SVDpp at 0x7fb9dc538950>"
            ]
          },
          "metadata": {},
          "execution_count": 124
        }
      ]
    },
    {
      "cell_type": "code",
      "source": [
        "# Then predict ratings for all pairs (u, i) that are NOT in the training set.\n",
        "svdpp_testset = svdpp_trainset.build_anti_testset()"
      ],
      "metadata": {
        "id": "XdTda7shGRme"
      },
      "execution_count": null,
      "outputs": []
    },
    {
      "cell_type": "code",
      "source": [
        "%time\n",
        "svdpp_predictions = svdpp_algorithm.test(svdpp_testset)"
      ],
      "metadata": {
        "colab": {
          "base_uri": "https://localhost:8080/"
        },
        "id": "JPIxxwTmGRpO",
        "outputId": "bde39948-590a-41c1-ab90-2f34cc1f6b4b"
      },
      "execution_count": null,
      "outputs": [
        {
          "output_type": "stream",
          "name": "stdout",
          "text": [
            "CPU times: user 4 µs, sys: 0 ns, total: 4 µs\n",
            "Wall time: 7.87 µs\n"
          ]
        }
      ]
    },
    {
      "cell_type": "code",
      "source": [
        "top_n = get_top_n(svdpp_predictions, n=3)"
      ],
      "metadata": {
        "id": "trggFMBsGRsM"
      },
      "execution_count": null,
      "outputs": []
    },
    {
      "cell_type": "code",
      "source": [
        "# Print the recommended items for each user\n",
        "count = 0\n",
        "for uid, user_ratings in top_n.items():\n",
        "  print(uid, [iid for (iid, _) in user_ratings])\n",
        "  count += 1\n",
        "  if count == 9:\n",
        "    break"
      ],
      "metadata": {
        "colab": {
          "base_uri": "https://localhost:8080/"
        },
        "id": "OdPIH_XOGRu6",
        "outputId": "c2ba6f81-a838-4764-86ae-527865f03b61"
      },
      "execution_count": null,
      "outputs": [
        {
          "output_type": "stream",
          "name": "stdout",
          "text": [
            "566-26-0321 ['VR7', 'Redmi', 'Harman Kardon']\n",
            "274-18-0017 ['VR7', 'Redmi', 'Harman Kardon']\n",
            "455-28-7950 ['Fitbit large', 'VR7', 'Logitech']\n",
            "254-72-5938 ['Logitech', 'Sony', 'Redmi']\n",
            "563-47-8401 ['VR7', 'Sony', 'Redmi']\n",
            "848-43-9454 ['Fitbit large', 'VR7', 'Sony']\n",
            "056-77-2913 ['VR7', 'Redmi', 'Fitbit small']\n",
            "404-86-6657 ['VR7', 'Sony', 'Samsung s10']\n",
            "653-90-2575 ['VR7', 'Logitech', 'Sony']\n"
          ]
        }
      ]
    },
    {
      "cell_type": "markdown",
      "source": [
        "### Validation"
      ],
      "metadata": {
        "id": "idRFzRnGGdpM"
      }
    },
    {
      "cell_type": "code",
      "source": [
        "cross_validate(svdpp_algorithm, svdpp_data, measures=['RMSE', 'MAE'], cv=5, verbose=True)"
      ],
      "metadata": {
        "colab": {
          "base_uri": "https://localhost:8080/"
        },
        "id": "QyHWpMcIGRxc",
        "outputId": "4f524522-85ac-45cc-fdbc-62383ae18c06"
      },
      "execution_count": null,
      "outputs": [
        {
          "output_type": "stream",
          "name": "stdout",
          "text": [
            "Evaluating RMSE, MAE of algorithm SVDpp on 5 split(s).\n",
            "\n",
            "                  Fold 1  Fold 2  Fold 3  Fold 4  Fold 5  Mean    Std     \n",
            "RMSE (testset)    0.2014  0.1981  0.1964  0.1981  0.2011  0.1990  0.0019  \n",
            "MAE (testset)     0.1013  0.0980  0.0982  0.0980  0.1035  0.0998  0.0022  \n",
            "Fit time          0.92    0.91    0.93    0.92    0.92    0.92    0.00    \n",
            "Test time         0.06    0.07    0.06    0.08    0.06    0.06    0.01    \n"
          ]
        },
        {
          "output_type": "execute_result",
          "data": {
            "text/plain": [
              "{'fit_time': (0.9237861633300781,\n",
              "  0.9141921997070312,\n",
              "  0.926285982131958,\n",
              "  0.9182925224304199,\n",
              "  0.9237527847290039),\n",
              " 'test_mae': array([0.10128751, 0.09801132, 0.098166  , 0.09799862, 0.1034702 ]),\n",
              " 'test_rmse': array([0.20139426, 0.1980771 , 0.19641264, 0.19814595, 0.20107043]),\n",
              " 'test_time': (0.05914950370788574,\n",
              "  0.06871414184570312,\n",
              "  0.05883288383483887,\n",
              "  0.07536935806274414,\n",
              "  0.057782649993896484)}"
            ]
          },
          "metadata": {},
          "execution_count": 129
        }
      ]
    }
  ]
}